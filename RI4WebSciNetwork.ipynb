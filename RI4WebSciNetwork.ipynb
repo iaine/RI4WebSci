{
 "cells": [
  {
   "cell_type": "code",
   "execution_count": 10,
   "id": "da319a94",
   "metadata": {},
   "outputs": [],
   "source": [
    "import pandas as pd\n",
    "from midiutil import MIDIFile"
   ]
  },
  {
   "cell_type": "markdown",
   "id": "a645b36c",
   "metadata": {},
   "source": [
    "Let's import the files from net_data."
   ]
  },
  {
   "cell_type": "code",
   "execution_count": 36,
   "id": "ebbc9f2e",
   "metadata": {},
   "outputs": [],
   "source": [
    "file_name='net_data/phone_on_4g.csv'"
   ]
  },
  {
   "cell_type": "markdown",
   "id": "9b6cd523",
   "metadata": {},
   "source": [
    "Put the CSV data into a Pandas data frame. Once it is in there, we will add columns\n",
    "\n",
    "* Channel  - the stream for the connection.\n",
    "\n",
    "* Time - the time of the event. Converted into epoch time by tshark\n",
    "\n",
    "* Source  - the IP address that initiated the packet\n",
    "\n",
    "* Target - the IP address that received the packet\n",
    "\n",
    "* Data - the amount of data (in bytes) in the packet"
   ]
  },
  {
   "cell_type": "code",
   "execution_count": 13,
   "id": "b68cf9df",
   "metadata": {},
   "outputs": [
    {
     "data": {
      "text/html": [
       "<div>\n",
       "<style scoped>\n",
       "    .dataframe tbody tr th:only-of-type {\n",
       "        vertical-align: middle;\n",
       "    }\n",
       "\n",
       "    .dataframe tbody tr th {\n",
       "        vertical-align: top;\n",
       "    }\n",
       "\n",
       "    .dataframe thead th {\n",
       "        text-align: right;\n",
       "    }\n",
       "</style>\n",
       "<table border=\"1\" class=\"dataframe\">\n",
       "  <thead>\n",
       "    <tr style=\"text-align: right;\">\n",
       "      <th></th>\n",
       "      <th>Channel</th>\n",
       "      <th>Time</th>\n",
       "      <th>Source</th>\n",
       "      <th>Target</th>\n",
       "      <th>Data</th>\n",
       "    </tr>\n",
       "  </thead>\n",
       "  <tbody>\n",
       "    <tr>\n",
       "      <th>0</th>\n",
       "      <td>NaN</td>\n",
       "      <td>1612192594</td>\n",
       "      <td>NaN</td>\n",
       "      <td>NaN</td>\n",
       "      <td>NaN</td>\n",
       "    </tr>\n",
       "    <tr>\n",
       "      <th>1</th>\n",
       "      <td>NaN</td>\n",
       "      <td>1612192601</td>\n",
       "      <td>192.168.1.1</td>\n",
       "      <td>224.0.0.1</td>\n",
       "      <td>NaN</td>\n",
       "    </tr>\n",
       "    <tr>\n",
       "      <th>2</th>\n",
       "      <td>NaN</td>\n",
       "      <td>1612192601</td>\n",
       "      <td>192.168.1.2</td>\n",
       "      <td>224.0.0.251</td>\n",
       "      <td>NaN</td>\n",
       "    </tr>\n",
       "    <tr>\n",
       "      <th>3</th>\n",
       "      <td>NaN</td>\n",
       "      <td>1612192602</td>\n",
       "      <td>192.168.1.6</td>\n",
       "      <td>224.0.0.251</td>\n",
       "      <td>NaN</td>\n",
       "    </tr>\n",
       "    <tr>\n",
       "      <th>4</th>\n",
       "      <td>NaN</td>\n",
       "      <td>1612192609</td>\n",
       "      <td>NaN</td>\n",
       "      <td>NaN</td>\n",
       "      <td>NaN</td>\n",
       "    </tr>\n",
       "  </tbody>\n",
       "</table>\n",
       "</div>"
      ],
      "text/plain": [
       "   Channel        Time       Source       Target  Data\n",
       "0      NaN  1612192594          NaN          NaN   NaN\n",
       "1      NaN  1612192601  192.168.1.1    224.0.0.1   NaN\n",
       "2      NaN  1612192601  192.168.1.2  224.0.0.251   NaN\n",
       "3      NaN  1612192602  192.168.1.6  224.0.0.251   NaN\n",
       "4      NaN  1612192609          NaN          NaN   NaN"
      ]
     },
     "execution_count": 13,
     "metadata": {},
     "output_type": "execute_result"
    }
   ],
   "source": [
    "phone_df = pd.read_csv(file_name, header=None)\n",
    "phone_df.columns = ['Channel', 'Time', 'Source', 'Target', 'Data']\n",
    "phone_df['Channel'] = phone_df['Channel'].replace('NaN', 0.0)\n",
    "phone_df.head()"
   ]
  },
  {
   "cell_type": "markdown",
   "id": "6c5f1400",
   "metadata": {},
   "source": [
    "Get the first time stamp so that we have a 0 point in time to calculate from"
   ]
  },
  {
   "cell_type": "code",
   "execution_count": 14,
   "id": "c494f0df",
   "metadata": {},
   "outputs": [],
   "source": [
    "start = phone_df['Time'].min()"
   ]
  },
  {
   "cell_type": "markdown",
   "id": "a7bc72bc",
   "metadata": {},
   "source": [
    "Set the values for the MIDI variables"
   ]
  },
  {
   "cell_type": "code",
   "execution_count": 27,
   "id": "945bc1c9",
   "metadata": {},
   "outputs": [],
   "source": [
    "track    = 0\n",
    "channel  = 0\n",
    "time     = 0    # In beats\n",
    "duration = 1    # In beats\n",
    "tempo    = 60   # In BPM\n",
    "volume   = 62  # 0-127, as per the MIDI standard"
   ]
  },
  {
   "cell_type": "code",
   "execution_count": 16,
   "id": "8cca8e2d",
   "metadata": {},
   "outputs": [],
   "source": [
    "# One track, defaults to format 1 (tempo track is created automatically)\n",
    "# set tracks to max number of streams connected\n",
    "#num_tracks = int(phone_df['Channel'].max())\n",
    "MyMIDI = MIDIFile(1)  \n",
    "MyMIDI.addTempo(track, time, tempo)"
   ]
  },
  {
   "cell_type": "markdown",
   "id": "e8ff84af",
   "metadata": {},
   "source": [
    "We can't put an IP address here if we want to focus on a particular IP address. "
   ]
  },
  {
   "cell_type": "code",
   "execution_count": 7,
   "id": "f4925e55",
   "metadata": {},
   "outputs": [],
   "source": [
    "filtered_ip = \"\""
   ]
  },
  {
   "cell_type": "markdown",
   "id": "7ae42983",
   "metadata": {},
   "source": [
    "Let's iterate over the rows in the dataframe and filter by source or target. If the ip is being filtered, then the volume is louder than non-filtered ips. These are played at the time that they appear in the data stream. "
   ]
  },
  {
   "cell_type": "code",
   "execution_count": 34,
   "id": "4b8ca474",
   "metadata": {},
   "outputs": [],
   "source": [
    "for _, row in phone_df.iterrows():\n",
    "    if type(row['Source']) is not float and type(row['Target']):\n",
    "\n",
    "        source = int(row['Source'].split('.')[0])\n",
    "        _time = int(row['Time']-start)\n",
    "        \n",
    "        if filtered_ip is not None and source == filtered_ip:\n",
    "            MyMIDI.addNote(0, 1, source, _time, 0.1, 60)\n",
    "        else:\n",
    "            MyMIDI.addNote(0, channel, source, _time, 0.1, 30)\n",
    "        #create a note for the source\n",
    "\n",
    "        #create a slight offset note for the target\n",
    "        target = int(row['Target'].split('.')[0])\n",
    "        targettime = int(_time + 1)\n",
    "\n",
    "        if filtered_ip is not None and target == filtered_ip:\n",
    "            MyMIDI.addNote(0, 1, target, _time, 0.1, 60)\n",
    "        else:\n",
    "            MyMIDI.addNote(0, channel, target, targettime, 0.1, 30)"
   ]
  },
  {
   "cell_type": "markdown",
   "id": "9c212ded",
   "metadata": {},
   "source": [
    "Let's iterate over the data frame. Here we use the time difference between the time that the source/target pair have been seen. If they have been seen recently, then make it louder, If it is quieter, then it was seen a while ago. "
   ]
  },
  {
   "cell_type": "code",
   "execution_count": 37,
   "id": "bea009f8",
   "metadata": {},
   "outputs": [],
   "source": [
    "#let's set up a simple dictionary to hold the ips and the time for a simple calculation\n",
    "ips = {}\n",
    "\n",
    "for _, row in phone_df.iterrows():\n",
    "    if type(row['Source']) is not float and type(row['Target']):\n",
    "        \n",
    "\n",
    "        source = row['Source']\n",
    "        target = row['Target']\n",
    "        \n",
    "        if type(row['Channel']) is not float:\n",
    "            channel = row['Channel']\n",
    "        else:\n",
    "            channel = 0\n",
    "        \n",
    "        #Have we seen it before?\n",
    "        if source+target not in ips:\n",
    "            ips[source+target] = {'time':0,'volume':60}\n",
    "        else:\n",
    "            #get the current last time. \n",
    "            tmp = ips[source+target][\"time\"]\n",
    "            \n",
    "            time_diff = (int(row['Time']) - ips[source+target][\"time\"])\n",
    "            #if closer, then increase the volume\n",
    "            if time_diff > ips[source+target][\"time\"]:\n",
    "                if ips[source+target][\"volume\"] < 127:\n",
    "                    ips[source+target][\"volume\"] += 1\n",
    "            #if further away, then decrease the volume\n",
    "            elif time_diff < ips[source+target][\"time\"]:\n",
    "                if ips[source+target][\"volume\"] > 0:\n",
    "                    ips[source+target][\"volume\"] -= 1\n",
    "            \n",
    "            ips[source+target] = {'time':time_diff,'volume':volume} \n",
    "                        \n",
    "        _time = int(row['Time']-start)\n",
    "\n",
    "        #create a note for the source\n",
    "        MyMIDI.addNote(0, channel, source, _time, 0.1, volume)\n",
    "        #create a slight offset note for the target\n",
    "        \n",
    "        targettime = int(_time + 1)\n",
    "        MyMIDI.addNote(0, channel, target, targettime, 0.1, volume)"
   ]
  },
  {
   "cell_type": "markdown",
   "id": "3fb3f103",
   "metadata": {},
   "source": [
    "Let's write the file to disk now. The filename is from the CSV file. Maybe a todo is to put in time. "
   ]
  },
  {
   "cell_type": "code",
   "execution_count": 35,
   "id": "48f57ada",
   "metadata": {},
   "outputs": [],
   "source": [
    "with open(file_name[:-4]+\"vol.mid\", \"wb\") as output_file:\n",
    "    MyMIDI.writeFile(output_file)"
   ]
  },
  {
   "cell_type": "code",
   "execution_count": 33,
   "id": "48de5c2b",
   "metadata": {},
   "outputs": [
    {
     "name": "stdout",
     "output_type": "stream",
     "text": [
      "{'192.168.1.1224.0.0.1': {'time': 140, 'volume': 62}, '192.168.1.2224.0.0.251': {'time': 104, 'volume': 62}, '192.168.1.6224.0.0.251': {'time': 1612192740, 'volume': 62}, '52.97.133.226192.168.1.2': {'time': 1612192610, 'volume': 62}, '192.168.1.252.97.133.226': {'time': 1612192610, 'volume': 62}, '192.168.1.2129.102.3.227': {'time': 1612192610, 'volume': 62}, '129.102.3.227192.168.1.2': {'time': 58, 'volume': 62}, '192.168.1.246.4.77.182': {'time': 3, 'volume': 62}, '46.4.77.182192.168.1.2': {'time': 1612192785, 'volume': 62}, '192.168.1.2192.168.1.1': {'time': 20, 'volume': 62}, '192.168.1.1192.168.1.2': {'time': 1612192832, 'volume': 62}, '192.168.1.2216.58.212.234': {'time': 1612192644, 'volume': 62}, '216.58.212.234192.168.1.2': {'time': 1612192644, 'volume': 62}, '192.168.1.252.142.124.215': {'time': 1612192658, 'volume': 62}, '192.168.1.252.142.125.222': {'time': 1612192660, 'volume': 62}, '52.142.124.215192.168.1.2': {'time': 1612192712, 'volume': 62}, '52.142.125.222192.168.1.2': {'time': 1612192826, 'volume': 62}, '192.168.1.235.165.120.205': {'time': 1612192658, 'volume': 62}, '35.165.120.205192.168.1.2': {'time': 1612192659, 'volume': 62}, '192.168.1.1192.168.1.255': {'time': 0, 'volume': 60}, '0.0.0.0255.255.255.255': {'time': 1612192781, 'volume': 62}, '192.168.1.217.253.54.253': {'time': 0, 'volume': 60}, '17.253.54.253192.168.1.2': {'time': 0, 'volume': 60}, '192.168.1.217.253.54.125': {'time': 0, 'volume': 60}, '17.253.54.125192.168.1.2': {'time': 0, 'volume': 60}, '192.168.1.217.253.52.253': {'time': 0, 'volume': 60}, '17.253.52.253192.168.1.2': {'time': 0, 'volume': 60}, '192.168.1.2,192.168.1.1192.168.1.1,192.168.1.2': {'time': 0, 'volume': 60}}\n"
     ]
    }
   ],
   "source": [
    "print(ips)"
   ]
  },
  {
   "cell_type": "code",
   "execution_count": null,
   "id": "a3abdb8d",
   "metadata": {},
   "outputs": [],
   "source": []
  }
 ],
 "metadata": {
  "kernelspec": {
   "display_name": "Python 3",
   "language": "python",
   "name": "python3"
  },
  "language_info": {
   "codemirror_mode": {
    "name": "ipython",
    "version": 3
   },
   "file_extension": ".py",
   "mimetype": "text/x-python",
   "name": "python",
   "nbconvert_exporter": "python",
   "pygments_lexer": "ipython3",
   "version": "3.9.5"
  }
 },
 "nbformat": 4,
 "nbformat_minor": 5
}
